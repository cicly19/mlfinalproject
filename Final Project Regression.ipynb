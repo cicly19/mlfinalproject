{
 "cells": [
  {
   "cell_type": "markdown",
   "metadata": {},
   "source": [
    "## Final ML Project "
   ]
  },
  {
   "cell_type": "markdown",
   "metadata": {},
   "source": [
    "### Group Members: Ruobing Wan, Xiao Fang, Zhuoyang Wu"
   ]
  },
  {
   "cell_type": "markdown",
   "metadata": {},
   "source": [
    "### Import Dataset"
   ]
  },
  {
   "cell_type": "code",
   "execution_count": 1,
   "metadata": {},
   "outputs": [],
   "source": [
    "#libraries\n",
    "import pandas as pd\n",
    "import matplotlib.pyplot as plt\n",
    "import numpy as np\n",
    "from matplotlib import colors\n",
    "import seaborn as sns\n",
    "from pandas import DataFrame\n",
    "from sklearn.model_selection import train_test_split\n",
    "from sklearn.preprocessing import StandardScaler\n",
    "from sklearn.metrics import accuracy_score, mean_squared_error, r2_score\n",
    "from sklearn.tree import DecisionTreeRegressor\n",
    "from sklearn.ensemble import RandomForestRegressor\n",
    "from sklearn.metrics import confusion_matrix\n",
    "from sklearn.metrics import classification_report\n",
    "from sklearn.model_selection import RepeatedStratifiedKFold, RandomizedSearchCV, cross_val_score, cross_val_predict\n",
    "from sklearn.preprocessing import PowerTransformer\n",
    "from sklearn.model_selection import GridSearchCV\n",
    "from sklearn.neural_network import MLPClassifier\n",
    "from sklearn.linear_model import Ridge\n",
    "from sklearn.linear_model import RidgeCV\n",
    "from sklearn.linear_model import LinearRegression\n",
    "from sklearn.linear_model import Lasso\n",
    "from sklearn.linear_model import LassoCV\n",
    "from sklearn.neighbors import KNeighborsRegressor"
   ]
  },
  {
   "cell_type": "code",
   "execution_count": 2,
   "metadata": {
    "scrolled": true
   },
   "outputs": [
    {
     "data": {
      "text/html": [
       "<div>\n",
       "<style scoped>\n",
       "    .dataframe tbody tr th:only-of-type {\n",
       "        vertical-align: middle;\n",
       "    }\n",
       "\n",
       "    .dataframe tbody tr th {\n",
       "        vertical-align: top;\n",
       "    }\n",
       "\n",
       "    .dataframe thead th {\n",
       "        text-align: right;\n",
       "    }\n",
       "</style>\n",
       "<table border=\"1\" class=\"dataframe\">\n",
       "  <thead>\n",
       "    <tr style=\"text-align: right;\">\n",
       "      <th></th>\n",
       "      <th>fixed acidity</th>\n",
       "      <th>volatile acidity</th>\n",
       "      <th>citric acid</th>\n",
       "      <th>residual sugar</th>\n",
       "      <th>chlorides</th>\n",
       "      <th>free sulfur dioxide</th>\n",
       "      <th>total sulfur dioxide</th>\n",
       "      <th>density</th>\n",
       "      <th>pH</th>\n",
       "      <th>sulphates</th>\n",
       "      <th>alcohol</th>\n",
       "      <th>quality</th>\n",
       "    </tr>\n",
       "  </thead>\n",
       "  <tbody>\n",
       "    <tr>\n",
       "      <td>0</td>\n",
       "      <td>7.4</td>\n",
       "      <td>0.70</td>\n",
       "      <td>0.00</td>\n",
       "      <td>1.9</td>\n",
       "      <td>0.076</td>\n",
       "      <td>11.0</td>\n",
       "      <td>34.0</td>\n",
       "      <td>0.9978</td>\n",
       "      <td>3.51</td>\n",
       "      <td>0.56</td>\n",
       "      <td>9.4</td>\n",
       "      <td>5</td>\n",
       "    </tr>\n",
       "    <tr>\n",
       "      <td>1</td>\n",
       "      <td>7.8</td>\n",
       "      <td>0.88</td>\n",
       "      <td>0.00</td>\n",
       "      <td>2.6</td>\n",
       "      <td>0.098</td>\n",
       "      <td>25.0</td>\n",
       "      <td>67.0</td>\n",
       "      <td>0.9968</td>\n",
       "      <td>3.20</td>\n",
       "      <td>0.68</td>\n",
       "      <td>9.8</td>\n",
       "      <td>5</td>\n",
       "    </tr>\n",
       "    <tr>\n",
       "      <td>2</td>\n",
       "      <td>7.8</td>\n",
       "      <td>0.76</td>\n",
       "      <td>0.04</td>\n",
       "      <td>2.3</td>\n",
       "      <td>0.092</td>\n",
       "      <td>15.0</td>\n",
       "      <td>54.0</td>\n",
       "      <td>0.9970</td>\n",
       "      <td>3.26</td>\n",
       "      <td>0.65</td>\n",
       "      <td>9.8</td>\n",
       "      <td>5</td>\n",
       "    </tr>\n",
       "    <tr>\n",
       "      <td>3</td>\n",
       "      <td>11.2</td>\n",
       "      <td>0.28</td>\n",
       "      <td>0.56</td>\n",
       "      <td>1.9</td>\n",
       "      <td>0.075</td>\n",
       "      <td>17.0</td>\n",
       "      <td>60.0</td>\n",
       "      <td>0.9980</td>\n",
       "      <td>3.16</td>\n",
       "      <td>0.58</td>\n",
       "      <td>9.8</td>\n",
       "      <td>6</td>\n",
       "    </tr>\n",
       "    <tr>\n",
       "      <td>4</td>\n",
       "      <td>7.4</td>\n",
       "      <td>0.70</td>\n",
       "      <td>0.00</td>\n",
       "      <td>1.9</td>\n",
       "      <td>0.076</td>\n",
       "      <td>11.0</td>\n",
       "      <td>34.0</td>\n",
       "      <td>0.9978</td>\n",
       "      <td>3.51</td>\n",
       "      <td>0.56</td>\n",
       "      <td>9.4</td>\n",
       "      <td>5</td>\n",
       "    </tr>\n",
       "  </tbody>\n",
       "</table>\n",
       "</div>"
      ],
      "text/plain": [
       "   fixed acidity  volatile acidity  citric acid  residual sugar  chlorides  \\\n",
       "0            7.4              0.70         0.00             1.9      0.076   \n",
       "1            7.8              0.88         0.00             2.6      0.098   \n",
       "2            7.8              0.76         0.04             2.3      0.092   \n",
       "3           11.2              0.28         0.56             1.9      0.075   \n",
       "4            7.4              0.70         0.00             1.9      0.076   \n",
       "\n",
       "   free sulfur dioxide  total sulfur dioxide  density    pH  sulphates  \\\n",
       "0                 11.0                  34.0   0.9978  3.51       0.56   \n",
       "1                 25.0                  67.0   0.9968  3.20       0.68   \n",
       "2                 15.0                  54.0   0.9970  3.26       0.65   \n",
       "3                 17.0                  60.0   0.9980  3.16       0.58   \n",
       "4                 11.0                  34.0   0.9978  3.51       0.56   \n",
       "\n",
       "   alcohol  quality  \n",
       "0      9.4        5  \n",
       "1      9.8        5  \n",
       "2      9.8        5  \n",
       "3      9.8        6  \n",
       "4      9.4        5  "
      ]
     },
     "execution_count": 2,
     "metadata": {},
     "output_type": "execute_result"
    }
   ],
   "source": [
    "wine = pd.read_csv(\"winequality-red.csv\")\n",
    "wine.head()"
   ]
  },
  {
   "cell_type": "code",
   "execution_count": 3,
   "metadata": {},
   "outputs": [
    {
     "name": "stdout",
     "output_type": "stream",
     "text": [
      "<class 'pandas.core.frame.DataFrame'>\n",
      "RangeIndex: 1599 entries, 0 to 1598\n",
      "Data columns (total 12 columns):\n",
      "fixed acidity           1599 non-null float64\n",
      "volatile acidity        1599 non-null float64\n",
      "citric acid             1599 non-null float64\n",
      "residual sugar          1599 non-null float64\n",
      "chlorides               1599 non-null float64\n",
      "free sulfur dioxide     1599 non-null float64\n",
      "total sulfur dioxide    1599 non-null float64\n",
      "density                 1599 non-null float64\n",
      "pH                      1599 non-null float64\n",
      "sulphates               1599 non-null float64\n",
      "alcohol                 1599 non-null float64\n",
      "quality                 1599 non-null int64\n",
      "dtypes: float64(11), int64(1)\n",
      "memory usage: 150.0 KB\n"
     ]
    }
   ],
   "source": [
    "wine.info()\n",
    "#No null values detected"
   ]
  },
  {
   "cell_type": "markdown",
   "metadata": {},
   "source": [
    "### Preprocessing"
   ]
  },
  {
   "cell_type": "code",
   "execution_count": 4,
   "metadata": {},
   "outputs": [
    {
     "data": {
      "image/png": "[encoded data removed]",
      "text/plain": [
       "<Figure size 1080x864 with 2 Axes>"
      ]
     },
     "metadata": {
      "needs_background": "light"
     },
     "output_type": "display_data"
    }
   ],
   "source": [
    "corrMatrix = wine.corr()\n",
    "matrix = np.triu(corrMatrix)\n",
    "sns.heatmap(corrMatrix, vmin = -1, vmax = 1, center = 0, xticklabels=corrMatrix.columns, yticklabels=corrMatrix.columns, annot=True, cmap=sns.diverging_palette(220, 20, as_cmap=True))\n",
    "plt.gcf().set_size_inches(15,12)"
   ]
  },
  {
   "cell_type": "code",
   "execution_count": 5,
   "metadata": {},
   "outputs": [
    {
     "data": {
      "text/plain": [
       "volatile acidity       -0.390558\n",
       "total sulfur dioxide   -0.185100\n",
       "density                -0.174919\n",
       "chlorides              -0.128907\n",
       "pH                     -0.057731\n",
       "free sulfur dioxide    -0.050656\n",
       "residual sugar          0.013732\n",
       "citric acid             0.226373\n",
       "sulphates               0.251397\n",
       "alcohol                 0.476166\n",
       "quality                 1.000000\n",
       "Name: quality, dtype: float64"
      ]
     },
     "execution_count": 5,
     "metadata": {},
     "output_type": "execute_result"
    }
   ],
   "source": [
    "corr_with_target = wine[wine.columns[1:]].corr()['quality'][:].sort_values(kind=\"quicksort\")\n",
    "corr_with_target"
   ]
  },
  {
   "cell_type": "markdown",
   "metadata": {},
   "source": [
    "### Data Exploration Part is on Tableau"
   ]
  },
  {
   "cell_type": "markdown",
   "metadata": {},
   "source": [
    "### Regression"
   ]
  },
  {
   "cell_type": "markdown",
   "metadata": {},
   "source": [
    "Regression Model Plan to Use:\n",
    "1. Linear Regression \n",
    "2. Lasso Regression (can be applied because there are a small number of significant parameters and the others are close to zero)\n",
    "3. Ridge Regression(can be applied because highly correlated variables exist)\n",
    "4. Random Forest(RandomForestRegressor)\n",
    "5. Decision Tree(DecisionTreeRegressor\n",
    "6. Knn(KNeighboursRegressor)\n"
   ]
  },
  {
   "cell_type": "markdown",
   "metadata": {},
   "source": [
    "### Train/Test Split"
   ]
  },
  {
   "cell_type": "code",
   "execution_count": 6,
   "metadata": {},
   "outputs": [],
   "source": [
    "X = wine.iloc[:, :-1].values\n",
    "y = wine['quality']"
   ]
  },
  {
   "cell_type": "code",
   "execution_count": 7,
   "metadata": {},
   "outputs": [
    {
     "name": "stdout",
     "output_type": "stream",
     "text": [
      "X_train shape: (1119, 11) | X_test shape: (480, 11)\n"
     ]
    }
   ],
   "source": [
    "#Split the dataset to traning and testing (70/30) and check the shape\n",
    "X_train, X_test, y_train, y_test = train_test_split(X, y, test_size = 0.3,random_state = 1)\n",
    "print(\"X_train shape:\", X_train.shape, \"| X_test shape:\", X_test.shape)"
   ]
  },
  {
   "cell_type": "markdown",
   "metadata": {},
   "source": [
    "### 1. Linear Regression"
   ]
  },
  {
   "cell_type": "code",
   "execution_count": 8,
   "metadata": {},
   "outputs": [],
   "source": [
    "linreg = LinearRegression().fit(X, y)"
   ]
  },
  {
   "cell_type": "code",
   "execution_count": 9,
   "metadata": {},
   "outputs": [
    {
     "data": {
      "text/plain": [
       "(array([ 2.49905527e-02, -1.08359026e+00, -1.82563948e-01,  1.63312698e-02,\n",
       "        -1.87422516e+00,  4.36133331e-03, -3.26457970e-03, -1.78811638e+01,\n",
       "        -4.13653144e-01,  9.16334413e-01,  2.76197699e-01]),\n",
       " 21.965208449448177)"
      ]
     },
     "execution_count": 9,
     "metadata": {},
     "output_type": "execute_result"
    }
   ],
   "source": [
    "linreg.coef_, linreg.intercept_"
   ]
  },
  {
   "cell_type": "code",
   "execution_count": 10,
   "metadata": {},
   "outputs": [
    {
     "name": "stdout",
     "output_type": "stream",
     "text": [
      "The mean accuracy on the traning data is 0.3716321196160003\n",
      "The mean accuracy on the testing data is 0.3289239282242903\n"
     ]
    }
   ],
   "source": [
    "print(\"The mean accuracy on the traning data is\", linreg.score(X_train, y_train))\n",
    "print(\"The mean accuracy on the testing data is\", linreg.score(X_test, y_test))"
   ]
  },
  {
   "cell_type": "code",
   "execution_count": 11,
   "metadata": {},
   "outputs": [],
   "source": [
    "lin_pred = linreg.predict(X_test)"
   ]
  },
  {
   "cell_type": "code",
   "execution_count": 12,
   "metadata": {},
   "outputs": [
    {
     "name": "stdout",
     "output_type": "stream",
     "text": [
      "The R squared for the linear model is: 0.3289239282242903\n"
     ]
    }
   ],
   "source": [
    "#R squared\n",
    "print(\"The R squared for the linear model is:\", r2_score(y_test, lin_pred))"
   ]
  },
  {
   "cell_type": "markdown",
   "metadata": {},
   "source": [
    "#### Cross-validation"
   ]
  },
  {
   "cell_type": "code",
   "execution_count": 13,
   "metadata": {},
   "outputs": [],
   "source": [
    "cv_lineg = cross_val_predict(linreg, X_train, y_train, cv = 10)"
   ]
  },
  {
   "cell_type": "code",
   "execution_count": 14,
   "metadata": {},
   "outputs": [
    {
     "name": "stdout",
     "output_type": "stream",
     "text": [
      "The R squared for the linear model is: 0.3456224150116199\n"
     ]
    }
   ],
   "source": [
    "#R squared\n",
    "print(\"The R squared for the linear model is:\", np.average(cross_val_score(linreg, X_train, y_train, cv = 10)))"
   ]
  },
  {
   "cell_type": "markdown",
   "metadata": {},
   "source": [
    "### 2. Lasso Regression"
   ]
  },
  {
   "cell_type": "code",
   "execution_count": 15,
   "metadata": {},
   "outputs": [
    {
     "data": {
      "text/plain": [
       "Lasso(alpha=1.0, copy_X=True, fit_intercept=True, max_iter=1000,\n",
       "      normalize=False, positive=False, precompute=False, random_state=None,\n",
       "      selection='cyclic', tol=0.0001, warm_start=False)"
      ]
     },
     "execution_count": 15,
     "metadata": {},
     "output_type": "execute_result"
    }
   ],
   "source": [
    "lasreg = Lasso(alpha = 1.0)\n",
    "lasreg.fit(X_train, y_train)"
   ]
  },
  {
   "cell_type": "code",
   "execution_count": 16,
   "metadata": {},
   "outputs": [
    {
     "name": "stdout",
     "output_type": "stream",
     "text": [
      "The mean accuracy on the traning data is 0.03547366391248685\n",
      "The mean accuracy on the testing data is 0.02224756258045202\n"
     ]
    }
   ],
   "source": [
    "print(\"The mean accuracy on the traning data is\", lasreg.score(X_train, y_train))\n",
    "print(\"The mean accuracy on the testing data is\", lasreg.score(X_test, y_test))"
   ]
  },
  {
   "cell_type": "code",
   "execution_count": 17,
   "metadata": {},
   "outputs": [],
   "source": [
    "las_pred = lasreg.predict(X_test)"
   ]
  },
  {
   "cell_type": "code",
   "execution_count": 18,
   "metadata": {},
   "outputs": [
    {
     "name": "stdout",
     "output_type": "stream",
     "text": [
      "The R squared for the Lasso model is: 0.02224756258045202\n"
     ]
    }
   ],
   "source": [
    "#R squared\n",
    "print(\"The R squared for the Lasso model is:\", r2_score(y_test, las_pred))"
   ]
  },
  {
   "cell_type": "markdown",
   "metadata": {},
   "source": [
    "#### Tune Parameters"
   ]
  },
  {
   "cell_type": "code",
   "execution_count": 19,
   "metadata": {},
   "outputs": [
    {
     "name": "stdout",
     "output_type": "stream",
     "text": [
      "The best alpha value for Lasso regression is: 0.005\n"
     ]
    },
    {
     "name": "stderr",
     "output_type": "stream",
     "text": [
      "C:\\Users\\Zhuoyang\\Anaconda3\\lib\\site-packages\\sklearn\\model_selection\\_split.py:1978: FutureWarning: The default value of cv will change from 3 to 5 in version 0.22. Specify it explicitly to silence this warning.\n",
      "  warnings.warn(CV_WARNING, FutureWarning)\n"
     ]
    }
   ],
   "source": [
    "alpha = 10**np.linspace(6,-2,50)*0.5\n",
    "lasso_cv = LassoCV(alphas=alpha, max_iter=100000, normalize=True)\n",
    "lasso_model = lasso_cv.fit(X_train, y_train)\n",
    "lasso_r2 = lasso_cv.score(X_train, y_train)\n",
    "print(\"The best alpha value for Lasso regression is:\", lasso_model.alpha_)"
   ]
  },
  {
   "cell_type": "code",
   "execution_count": 20,
   "metadata": {},
   "outputs": [],
   "source": [
    "lasreg2 = Lasso(alpha=lasso_model.alpha_)"
   ]
  },
  {
   "cell_type": "code",
   "execution_count": 21,
   "metadata": {},
   "outputs": [
    {
     "data": {
      "text/plain": [
       "Lasso(alpha=0.005, copy_X=True, fit_intercept=True, max_iter=1000,\n",
       "      normalize=False, positive=False, precompute=False, random_state=None,\n",
       "      selection='cyclic', tol=0.0001, warm_start=False)"
      ]
     },
     "execution_count": 21,
     "metadata": {},
     "output_type": "execute_result"
    }
   ],
   "source": [
    "lasreg2.fit(X_train, y_train)"
   ]
  },
  {
   "cell_type": "code",
   "execution_count": 22,
   "metadata": {},
   "outputs": [
    {
     "name": "stdout",
     "output_type": "stream",
     "text": [
      "The mean accuracy on the traning data is 0.3564588563472145\n",
      "The mean accuracy on the testing data is 0.3104625108858078\n"
     ]
    }
   ],
   "source": [
    "print(\"The mean accuracy on the traning data is\", lasreg2.score(X_train, y_train))\n",
    "print(\"The mean accuracy on the testing data is\", lasreg2.score(X_test, y_test))"
   ]
  },
  {
   "cell_type": "code",
   "execution_count": 23,
   "metadata": {},
   "outputs": [],
   "source": [
    "las_pred2 = lasreg2.predict(X_test)"
   ]
  },
  {
   "cell_type": "code",
   "execution_count": 24,
   "metadata": {},
   "outputs": [
    {
     "name": "stdout",
     "output_type": "stream",
     "text": [
      "The R squared for the Tuned Lasso model is: 0.3104625108858078\n"
     ]
    }
   ],
   "source": [
    "#R squared\n",
    "print(\"The R squared for the Tuned Lasso model is:\", r2_score(y_test, las_pred2))"
   ]
  },
  {
   "cell_type": "markdown",
   "metadata": {},
   "source": [
    "#### Cross Validation"
   ]
  },
  {
   "cell_type": "code",
   "execution_count": 25,
   "metadata": {},
   "outputs": [],
   "source": [
    "cv_lasso = LassoCV(alphas=alpha, cv = 10, random_state = None, normalize = True).fit(X_train, y_train)"
   ]
  },
  {
   "cell_type": "code",
   "execution_count": 26,
   "metadata": {},
   "outputs": [],
   "source": [
    "cv_lasso_pred = cv_lasso.predict(X_test)"
   ]
  },
  {
   "cell_type": "code",
   "execution_count": 27,
   "metadata": {},
   "outputs": [
    {
     "name": "stdout",
     "output_type": "stream",
     "text": [
      "The R squared for the Lasso model is: 0.23733002149228088\n"
     ]
    }
   ],
   "source": [
    "#R squared\n",
    "print(\"The R squared for the Lasso model is:\", r2_score(y_test, cv_lasso_pred))"
   ]
  },
  {
   "cell_type": "markdown",
   "metadata": {},
   "source": [
    "### 3. Ridge Regression"
   ]
  },
  {
   "cell_type": "code",
   "execution_count": 28,
   "metadata": {},
   "outputs": [
    {
     "data": {
      "text/plain": [
       "Ridge(alpha=1.0, copy_X=True, fit_intercept=True, max_iter=None,\n",
       "      normalize=False, random_state=None, solver='auto', tol=0.001)"
      ]
     },
     "execution_count": 28,
     "metadata": {},
     "output_type": "execute_result"
    }
   ],
   "source": [
    "ridreg = Ridge(alpha=1.0)\n",
    "ridreg.fit(X_train, y_train)"
   ]
  },
  {
   "cell_type": "code",
   "execution_count": 29,
   "metadata": {},
   "outputs": [
    {
     "name": "stdout",
     "output_type": "stream",
     "text": [
      "The mean accuracy on the traning data is 0.37115748296385653\n",
      "The mean accuracy on the testing data is 0.32011505433220167\n"
     ]
    }
   ],
   "source": [
    "print(\"The mean accuracy on the traning data is\", ridreg.score(X_train, y_train))\n",
    "print(\"The mean accuracy on the testing data is\", ridreg.score(X_test, y_test))"
   ]
  },
  {
   "cell_type": "code",
   "execution_count": 30,
   "metadata": {},
   "outputs": [],
   "source": [
    "rid_pred = ridreg.predict(X_test)"
   ]
  },
  {
   "cell_type": "code",
   "execution_count": 31,
   "metadata": {},
   "outputs": [
    {
     "name": "stdout",
     "output_type": "stream",
     "text": [
      "The R squared for the Ridge model is: 0.32011505433220167\n"
     ]
    }
   ],
   "source": [
    "#R squared\n",
    "print(\"The R squared for the Ridge model is:\", r2_score(y_test, rid_pred))"
   ]
  },
  {
   "cell_type": "markdown",
   "metadata": {},
   "source": [
    "#### Tune parameters"
   ]
  },
  {
   "cell_type": "code",
   "execution_count": 32,
   "metadata": {},
   "outputs": [
    {
     "name": "stdout",
     "output_type": "stream",
     "text": [
      "The best alpha value for Lasso regression is: 0.04770477381749972\n"
     ]
    }
   ],
   "source": [
    "alpha = 10**np.linspace(6,-2,50)*0.5\n",
    "ridge_cv = RidgeCV(alphas=alpha, normalize=True)\n",
    "ridge_model = ridge_cv.fit(X_train, y_train)\n",
    "ridge_r2 = ridge_cv.score(X_train, y_train)\n",
    "print(\"The best alpha value for Lasso regression is:\", ridge_model.alpha_)"
   ]
  },
  {
   "cell_type": "code",
   "execution_count": 33,
   "metadata": {},
   "outputs": [],
   "source": [
    "ridreg2 = Ridge(ridge_model.alpha_)"
   ]
  },
  {
   "cell_type": "code",
   "execution_count": 34,
   "metadata": {},
   "outputs": [
    {
     "data": {
      "text/plain": [
       "Ridge(alpha=0.04770477381749972, copy_X=True, fit_intercept=True, max_iter=None,\n",
       "      normalize=False, random_state=None, solver='auto', tol=0.001)"
      ]
     },
     "execution_count": 34,
     "metadata": {},
     "output_type": "execute_result"
    }
   ],
   "source": [
    "ridreg2.fit(X_train, y_train)"
   ]
  },
  {
   "cell_type": "code",
   "execution_count": 35,
   "metadata": {},
   "outputs": [
    {
     "name": "stdout",
     "output_type": "stream",
     "text": [
      "The mean accuracy on the traning data is 0.3724026645481611\n",
      "The mean accuracy on the testing data is 0.3205990015474819\n"
     ]
    }
   ],
   "source": [
    "print(\"The mean accuracy on the traning data is\", ridreg2.score(X_train, y_train))\n",
    "print(\"The mean accuracy on the testing data is\", ridreg2.score(X_test, y_test))"
   ]
  },
  {
   "cell_type": "code",
   "execution_count": 36,
   "metadata": {},
   "outputs": [],
   "source": [
    "rid_pred2 = ridreg2.predict(X_test)"
   ]
  },
  {
   "cell_type": "code",
   "execution_count": 37,
   "metadata": {},
   "outputs": [
    {
     "name": "stdout",
     "output_type": "stream",
     "text": [
      "The R squared for the Tuned Ridge model is: 0.3205990015474819\n"
     ]
    }
   ],
   "source": [
    "#R squared\n",
    "print(\"The R squared for the Tuned Ridge model is:\", r2_score(y_test, rid_pred2))"
   ]
  },
  {
   "cell_type": "markdown",
   "metadata": {},
   "source": [
    "#### Cross Validation"
   ]
  },
  {
   "cell_type": "code",
   "execution_count": 38,
   "metadata": {},
   "outputs": [],
   "source": [
    "cv_ridge = RidgeCV(alphas=alpha, cv = 10, normalize = True).fit(X_train, y_train)"
   ]
  },
  {
   "cell_type": "code",
   "execution_count": 39,
   "metadata": {},
   "outputs": [],
   "source": [
    "cv_ridge_pred = cv_ridge.predict(X_test)"
   ]
  },
  {
   "cell_type": "code",
   "execution_count": 40,
   "metadata": {},
   "outputs": [
    {
     "name": "stdout",
     "output_type": "stream",
     "text": [
      "The R squared for the model is: 0.32180224371573085\n"
     ]
    }
   ],
   "source": [
    "#R squared\n",
    "print(\"The R squared for the model is:\", r2_score(y_test, cv_ridge_pred))"
   ]
  },
  {
   "cell_type": "markdown",
   "metadata": {},
   "source": [
    "### 4. Random Forest Model"
   ]
  },
  {
   "cell_type": "code",
   "execution_count": 41,
   "metadata": {},
   "outputs": [],
   "source": [
    "rf_model = RandomForestRegressor(random_state=42)"
   ]
  },
  {
   "cell_type": "code",
   "execution_count": 42,
   "metadata": {},
   "outputs": [
    {
     "name": "stderr",
     "output_type": "stream",
     "text": [
      "C:\\Users\\Zhuoyang\\Anaconda3\\lib\\site-packages\\sklearn\\ensemble\\forest.py:245: FutureWarning: The default value of n_estimators will change from 10 in version 0.20 to 100 in 0.22.\n",
      "  \"10 in version 0.20 to 100 in 0.22.\", FutureWarning)\n"
     ]
    },
    {
     "data": {
      "text/plain": [
       "RandomForestRegressor(bootstrap=True, criterion='mse', max_depth=None,\n",
       "                      max_features='auto', max_leaf_nodes=None,\n",
       "                      min_impurity_decrease=0.0, min_impurity_split=None,\n",
       "                      min_samples_leaf=1, min_samples_split=2,\n",
       "                      min_weight_fraction_leaf=0.0, n_estimators=10,\n",
       "                      n_jobs=None, oob_score=False, random_state=42, verbose=0,\n",
       "                      warm_start=False)"
      ]
     },
     "execution_count": 42,
     "metadata": {},
     "output_type": "execute_result"
    }
   ],
   "source": [
    "rf_model.fit(X_train, y_train)"
   ]
  },
  {
   "cell_type": "code",
   "execution_count": 43,
   "metadata": {},
   "outputs": [
    {
     "name": "stdout",
     "output_type": "stream",
     "text": [
      "The mean accuracy on the traning data is 0.8973999957020776\n",
      "The mean accuracy on the testing data is 0.44541791757885213\n"
     ]
    }
   ],
   "source": [
    "print(\"The mean accuracy on the traning data is\", rf_model.score(X_train, y_train))\n",
    "print(\"The mean accuracy on the testing data is\", rf_model.score(X_test, y_test))"
   ]
  },
  {
   "cell_type": "code",
   "execution_count": 44,
   "metadata": {},
   "outputs": [],
   "source": [
    "rf_pred = rf_model.predict(X_test)"
   ]
  },
  {
   "cell_type": "code",
   "execution_count": 45,
   "metadata": {},
   "outputs": [
    {
     "name": "stdout",
     "output_type": "stream",
     "text": [
      "The R squared score for Random Forest model: 0.4454179175788521\n"
     ]
    }
   ],
   "source": [
    "print(\"The R squared score for Random Forest model:\",r2_score(y_test, rf_pred))"
   ]
  },
  {
   "cell_type": "markdown",
   "metadata": {},
   "source": [
    "#### Tune Parameters & Grid Search with Cross Validation"
   ]
  },
  {
   "cell_type": "code",
   "execution_count": 46,
   "metadata": {},
   "outputs": [],
   "source": [
    "#Source: https://towardsdatascience.com/hyperparameter-tuning-the-random-forest-in-python-using-scikit-learn-28d2aa77dd74\n",
    "param_grid = {\n",
    "    'bootstrap': [True],\n",
    "    'max_depth': [1, 2, 3, 4, 10, 50, 100, 200],\n",
    "    'max_features': [2, 3, 'auto'],\n",
    "    'min_samples_leaf': [1, 3, 4, 5],\n",
    "    'min_samples_split': [2, 8, 10, 12],\n",
    "    'n_estimators': [10, 100, 200, 300, 1000], \n",
    "    'random_state': [42, 50, 100, 200, 300]\n",
    "}"
   ]
  },
  {
   "cell_type": "code",
   "execution_count": 47,
   "metadata": {},
   "outputs": [],
   "source": [
    "rf_model2 = RandomForestRegressor()"
   ]
  },
  {
   "cell_type": "code",
   "execution_count": 48,
   "metadata": {},
   "outputs": [],
   "source": [
    "grid_search = GridSearchCV(estimator = rf_model2, param_grid = param_grid, \n",
    "                          cv = 3, n_jobs = -1, verbose = 2)"
   ]
  },
  {
   "cell_type": "code",
   "execution_count": 49,
   "metadata": {},
   "outputs": [
    {
     "name": "stdout",
     "output_type": "stream",
     "text": [
      "Fitting 3 folds for each of 9600 candidates, totalling 28800 fits\n"
     ]
    },
    {
     "name": "stderr",
     "output_type": "stream",
     "text": [
      "[Parallel(n_jobs=-1)]: Using backend LokyBackend with 4 concurrent workers.\n",
      "[Parallel(n_jobs=-1)]: Done  33 tasks      | elapsed:   10.2s\n",
      "[Parallel(n_jobs=-1)]: Done 154 tasks      | elapsed:   29.1s\n",
      "[Parallel(n_jobs=-1)]: Done 357 tasks      | elapsed:   56.1s\n",
      "[Parallel(n_jobs=-1)]: Done 640 tasks      | elapsed:  1.6min\n",
      "[Parallel(n_jobs=-1)]: Done 1005 tasks      | elapsed:  2.6min\n",
      "[Parallel(n_jobs=-1)]: Done 1450 tasks      | elapsed:  3.6min\n",
      "[Parallel(n_jobs=-1)]: Done 1977 tasks      | elapsed:  5.0min\n",
      "[Parallel(n_jobs=-1)]: Done 2584 tasks      | elapsed:  6.3min\n",
      "[Parallel(n_jobs=-1)]: Done 3273 tasks      | elapsed:  8.0min\n",
      "[Parallel(n_jobs=-1)]: Done 4042 tasks      | elapsed:  9.7min\n",
      "[Parallel(n_jobs=-1)]: Done 4893 tasks      | elapsed: 11.5min\n",
      "[Parallel(n_jobs=-1)]: Done 5824 tasks      | elapsed: 13.6min\n",
      "[Parallel(n_jobs=-1)]: Done 6837 tasks      | elapsed: 16.6min\n",
      "[Parallel(n_jobs=-1)]: Done 7930 tasks      | elapsed: 19.4min\n",
      "[Parallel(n_jobs=-1)]: Done 9105 tasks      | elapsed: 22.9min\n",
      "[Parallel(n_jobs=-1)]: Done 10360 tasks      | elapsed: 27.8min\n",
      "[Parallel(n_jobs=-1)]: Done 11697 tasks      | elapsed: 32.0min\n",
      "[Parallel(n_jobs=-1)]: Done 13114 tasks      | elapsed: 36.5min\n",
      "[Parallel(n_jobs=-1)]: Done 14613 tasks      | elapsed: 44.0min\n",
      "[Parallel(n_jobs=-1)]: Done 16192 tasks      | elapsed: 49.2min\n",
      "[Parallel(n_jobs=-1)]: Done 17853 tasks      | elapsed: 58.5min\n",
      "[Parallel(n_jobs=-1)]: Done 19594 tasks      | elapsed: 64.8min\n",
      "[Parallel(n_jobs=-1)]: Done 21417 tasks      | elapsed: 77.2min\n",
      "[Parallel(n_jobs=-1)]: Done 23320 tasks      | elapsed: 85.0min\n",
      "[Parallel(n_jobs=-1)]: Done 25305 tasks      | elapsed: 96.5min\n",
      "[Parallel(n_jobs=-1)]: Done 27370 tasks      | elapsed: 103.5min\n",
      "[Parallel(n_jobs=-1)]: Done 28800 out of 28800 | elapsed: 113.4min finished\n"
     ]
    },
    {
     "data": {
      "text/plain": [
       "{'bootstrap': True,\n",
       " 'max_depth': 50,\n",
       " 'max_features': 3,\n",
       " 'min_samples_leaf': 1,\n",
       " 'min_samples_split': 2,\n",
       " 'n_estimators': 1000,\n",
       " 'random_state': 300}"
      ]
     },
     "execution_count": 49,
     "metadata": {},
     "output_type": "execute_result"
    }
   ],
   "source": [
    "grid_search.fit(X_train, y_train)\n",
    "grid_search.best_params_"
   ]
  },
  {
   "cell_type": "code",
   "execution_count": 50,
   "metadata": {},
   "outputs": [
    {
     "data": {
      "text/plain": [
       "RandomForestRegressor(bootstrap=True, criterion='mse', max_depth=50,\n",
       "                      max_features=3, max_leaf_nodes=None,\n",
       "                      min_impurity_decrease=0.0, min_impurity_split=None,\n",
       "                      min_samples_leaf=1, min_samples_split=2,\n",
       "                      min_weight_fraction_leaf=0.0, n_estimators=1000,\n",
       "                      n_jobs=None, oob_score=False, random_state=300, verbose=0,\n",
       "                      warm_start=False)"
      ]
     },
     "execution_count": 50,
     "metadata": {},
     "output_type": "execute_result"
    }
   ],
   "source": [
    "rf_model3 = RandomForestRegressor(bootstrap = True, max_depth = 50, max_features = 3, min_samples_leaf = 1, \n",
    "                                  min_samples_split = 2, n_estimators = 1000, random_state = 300)\n",
    "rf_model3.fit(X_train, y_train)"
   ]
  },
  {
   "cell_type": "code",
   "execution_count": 51,
   "metadata": {},
   "outputs": [
    {
     "name": "stdout",
     "output_type": "stream",
     "text": [
      "The mean accuracy on the traning data is 0.9308651660179987\n",
      "The mean accuracy on the testing data is 0.470629050637876\n"
     ]
    }
   ],
   "source": [
    "print(\"The mean accuracy on the traning data is\", rf_model3.score(X_train, y_train))\n",
    "print(\"The mean accuracy on the testing data is\", rf_model3.score(X_test, y_test))"
   ]
  },
  {
   "cell_type": "code",
   "execution_count": 52,
   "metadata": {},
   "outputs": [],
   "source": [
    "rf_pred2 = rf_model3.predict(X_test)"
   ]
  },
  {
   "cell_type": "code",
   "execution_count": 53,
   "metadata": {},
   "outputs": [
    {
     "name": "stdout",
     "output_type": "stream",
     "text": [
      "The R squared score for Tuned Random Forest model: 0.47062905063787597\n"
     ]
    }
   ],
   "source": [
    "print(\"The R squared score for Tuned Random Forest model:\",r2_score(y_test, rf_pred2))"
   ]
  },
  {
   "cell_type": "markdown",
   "metadata": {},
   "source": [
    "### 4. Decision Tree Model"
   ]
  },
  {
   "cell_type": "code",
   "execution_count": 54,
   "metadata": {},
   "outputs": [],
   "source": [
    "dt_model = DecisionTreeRegressor(random_state=42)"
   ]
  },
  {
   "cell_type": "code",
   "execution_count": 55,
   "metadata": {},
   "outputs": [
    {
     "data": {
      "text/plain": [
       "DecisionTreeRegressor(criterion='mse', max_depth=None, max_features=None,\n",
       "                      max_leaf_nodes=None, min_impurity_decrease=0.0,\n",
       "                      min_impurity_split=None, min_samples_leaf=1,\n",
       "                      min_samples_split=2, min_weight_fraction_leaf=0.0,\n",
       "                      presort=False, random_state=42, splitter='best')"
      ]
     },
     "execution_count": 55,
     "metadata": {},
     "output_type": "execute_result"
    }
   ],
   "source": [
    "dt_model.fit(X_train,y_train)"
   ]
  },
  {
   "cell_type": "code",
   "execution_count": 56,
   "metadata": {},
   "outputs": [
    {
     "name": "stdout",
     "output_type": "stream",
     "text": [
      "The mean accuracy on the traning data is 1.0\n",
      "The mean accuracy on the testing data is -0.00633953975939705\n"
     ]
    }
   ],
   "source": [
    "print(\"The mean accuracy on the traning data is\", dt_model.score(X_train, y_train))\n",
    "print(\"The mean accuracy on the testing data is\", dt_model.score(X_test, y_test))"
   ]
  },
  {
   "cell_type": "code",
   "execution_count": 57,
   "metadata": {},
   "outputs": [],
   "source": [
    "dt_pred = dt_model.predict(X_test)"
   ]
  },
  {
   "cell_type": "code",
   "execution_count": 58,
   "metadata": {},
   "outputs": [
    {
     "name": "stdout",
     "output_type": "stream",
     "text": [
      "The R squared for Decision Tree model: -0.00633953975939705\n"
     ]
    }
   ],
   "source": [
    "print(\"The R squared for Decision Tree model:\",r2_score(y_test, dt_pred))"
   ]
  },
  {
   "cell_type": "markdown",
   "metadata": {},
   "source": [
    "#### Tune Parameters & Grid Search with Cross Validation"
   ]
  },
  {
   "cell_type": "code",
   "execution_count": 59,
   "metadata": {},
   "outputs": [],
   "source": [
    "#Source: https://www.nbshare.io/notebook/312837011/Decision-Tree-Regression-With-Hyper-Parameter-Tuning-In-Python/\n",
    "parameters={\"splitter\":[\"best\",\"random\"],\n",
    "            \"criterion\":[\"mse\"],\n",
    "            \"max_depth\" : [1,3,5,7,9,11,12],\n",
    "           \"min_samples_leaf\":[1,2,3,4,5,6,7,8,9,10],\n",
    "           \"min_weight_fraction_leaf\":[0,0.1,0.2,0.3,0.4,0.5],\n",
    "           \"max_features\":[\"auto\",\"log2\",\"sqrt\",None],\n",
    "           \"max_leaf_nodes\":[None,10,20,30,40,50,60,70,80,90],\n",
    "           'random_state': [42, 50, 100, 200, 300]}"
   ]
  },
  {
   "cell_type": "code",
   "execution_count": 60,
   "metadata": {},
   "outputs": [],
   "source": [
    "dt_model2 = DecisionTreeRegressor()"
   ]
  },
  {
   "cell_type": "code",
   "execution_count": 61,
   "metadata": {},
   "outputs": [
    {
     "name": "stdout",
     "output_type": "stream",
     "text": [
      "Fitting 3 folds for each of 168000 candidates, totalling 504000 fits\n"
     ]
    },
    {
     "name": "stderr",
     "output_type": "stream",
     "text": [
      "[Parallel(n_jobs=-1)]: Using backend LokyBackend with 4 concurrent workers.\n",
      "[Parallel(n_jobs=-1)]: Done 258 tasks      | elapsed:    1.4s\n",
      "[Parallel(n_jobs=-1)]: Done 2308 tasks      | elapsed:    5.7s\n",
      "[Parallel(n_jobs=-1)]: Done 10388 tasks      | elapsed:   14.5s\n",
      "[Parallel(n_jobs=-1)]: Done 21708 tasks      | elapsed:   26.6s\n",
      "[Parallel(n_jobs=-1)]: Done 36308 tasks      | elapsed:   41.9s\n",
      "[Parallel(n_jobs=-1)]: Done 54108 tasks      | elapsed:  1.0min\n",
      "[Parallel(n_jobs=-1)]: Done 75188 tasks      | elapsed:  1.4min\n",
      "[Parallel(n_jobs=-1)]: Done 99468 tasks      | elapsed:  1.8min\n",
      "[Parallel(n_jobs=-1)]: Done 127028 tasks      | elapsed:  2.3min\n",
      "[Parallel(n_jobs=-1)]: Done 157788 tasks      | elapsed:  2.9min\n",
      "[Parallel(n_jobs=-1)]: Done 191828 tasks      | elapsed:  3.5min\n",
      "[Parallel(n_jobs=-1)]: Done 229068 tasks      | elapsed:  4.3min\n",
      "[Parallel(n_jobs=-1)]: Done 269588 tasks      | elapsed:  5.0min\n",
      "[Parallel(n_jobs=-1)]: Done 313308 tasks      | elapsed:  5.9min\n",
      "[Parallel(n_jobs=-1)]: Done 360308 tasks      | elapsed:  6.8min\n",
      "[Parallel(n_jobs=-1)]: Done 410508 tasks      | elapsed:  7.7min\n",
      "[Parallel(n_jobs=-1)]: Done 463988 tasks      | elapsed:  8.8min\n",
      "[Parallel(n_jobs=-1)]: Done 504000 out of 504000 | elapsed:  9.5min finished\n"
     ]
    },
    {
     "data": {
      "text/plain": [
       "{'criterion': 'mse',\n",
       " 'max_depth': 7,\n",
       " 'max_features': 'auto',\n",
       " 'max_leaf_nodes': 40,\n",
       " 'min_samples_leaf': 8,\n",
       " 'min_weight_fraction_leaf': 0,\n",
       " 'random_state': 50,\n",
       " 'splitter': 'random'}"
      ]
     },
     "execution_count": 61,
     "metadata": {},
     "output_type": "execute_result"
    }
   ],
   "source": [
    "dt_grid =  GridSearchCV(estimator = dt_model2, param_grid = parameters,\n",
    "                                cv=3, verbose=2,  n_jobs = -1)\n",
    "# Fit the grid search model\n",
    "dt_grid.fit(X_train, y_train)\n",
    "dt_grid.best_params_"
   ]
  },
  {
   "cell_type": "code",
   "execution_count": 62,
   "metadata": {},
   "outputs": [
    {
     "data": {
      "text/plain": [
       "DecisionTreeRegressor(criterion='mse', max_depth=7, max_features='auto',\n",
       "                      max_leaf_nodes=40, min_impurity_decrease=0.0,\n",
       "                      min_impurity_split=None, min_samples_leaf=8,\n",
       "                      min_samples_split=2, min_weight_fraction_leaf=0,\n",
       "                      presort=False, random_state=50, splitter='random')"
      ]
     },
     "execution_count": 62,
     "metadata": {},
     "output_type": "execute_result"
    }
   ],
   "source": [
    "#random_state=42, max_depth=3, criterion='mse', splitter='best',min_samples_leaf=1\n",
    "dt_model3 = DecisionTreeRegressor(max_depth = 7, max_features = 'auto', min_samples_leaf = 8, \n",
    "                                  min_weight_fraction_leaf = 0, random_state = 50, max_leaf_nodes = 40, \n",
    "                                  splitter =\"random\" , criterion=\"mse\")\n",
    "dt_model3.fit(X_train, y_train)"
   ]
  },
  {
   "cell_type": "code",
   "execution_count": 63,
   "metadata": {},
   "outputs": [
    {
     "name": "stdout",
     "output_type": "stream",
     "text": [
      "The mean accuracy on the traning data is 0.4271501253304246\n",
      "The mean accuracy on the testing data is 0.22979806503430936\n"
     ]
    }
   ],
   "source": [
    "print(\"The mean accuracy on the traning data is\", dt_model3.score(X_train, y_train))\n",
    "print(\"The mean accuracy on the testing data is\", dt_model3.score(X_test, y_test))"
   ]
  },
  {
   "cell_type": "code",
   "execution_count": 64,
   "metadata": {},
   "outputs": [],
   "source": [
    "dt_pred2 = dt_model3.predict(X_test)"
   ]
  },
  {
   "cell_type": "code",
   "execution_count": 65,
   "metadata": {},
   "outputs": [
    {
     "name": "stdout",
     "output_type": "stream",
     "text": [
      "The R squared score for Tuned Decision Tree model: 0.22979806503430933\n"
     ]
    }
   ],
   "source": [
    "print(\"The R squared score for Tuned Decision Tree model:\",r2_score(y_test, dt_pred2))"
   ]
  },
  {
   "cell_type": "markdown",
   "metadata": {},
   "source": [
    "### 5. Knn Model"
   ]
  },
  {
   "cell_type": "markdown",
   "metadata": {},
   "source": [
    "#### Normalization"
   ]
  },
  {
   "cell_type": "code",
   "execution_count": 66,
   "metadata": {},
   "outputs": [],
   "source": [
    "scaler = StandardScaler()\n",
    "\n",
    "X_train_scaled = scaler.fit_transform(X_train)\n",
    "X_train1 = pd.DataFrame(X_train_scaled)\n",
    "\n",
    "X_test_scaled = scaler.fit_transform(X_test)\n",
    "X_test1 = pd.DataFrame(X_test_scaled)"
   ]
  },
  {
   "cell_type": "code",
   "execution_count": 67,
   "metadata": {},
   "outputs": [],
   "source": [
    "knn_model = KNeighborsRegressor()"
   ]
  },
  {
   "cell_type": "code",
   "execution_count": 68,
   "metadata": {},
   "outputs": [
    {
     "data": {
      "text/plain": [
       "KNeighborsRegressor(algorithm='auto', leaf_size=30, metric='minkowski',\n",
       "                    metric_params=None, n_jobs=None, n_neighbors=5, p=2,\n",
       "                    weights='uniform')"
      ]
     },
     "execution_count": 68,
     "metadata": {},
     "output_type": "execute_result"
    }
   ],
   "source": [
    "knn_model.fit(X_train1, y_train)"
   ]
  },
  {
   "cell_type": "code",
   "execution_count": 69,
   "metadata": {},
   "outputs": [
    {
     "name": "stdout",
     "output_type": "stream",
     "text": [
      "The mean accuracy on the traning data is 0.5430024808563372\n",
      "The mean accuracy on the testing data is 0.23928945810840707\n"
     ]
    }
   ],
   "source": [
    "print(\"The mean accuracy on the traning data is\", knn_model.score(X_train1, y_train))\n",
    "print(\"The mean accuracy on the testing data is\", knn_model.score(X_test1, y_test))"
   ]
  },
  {
   "cell_type": "code",
   "execution_count": 70,
   "metadata": {},
   "outputs": [],
   "source": [
    "knn_pred = knn_model.predict(X_test1)"
   ]
  },
  {
   "cell_type": "code",
   "execution_count": 71,
   "metadata": {},
   "outputs": [
    {
     "name": "stdout",
     "output_type": "stream",
     "text": [
      "The R squared for Knn Regression model: 0.23928945810840707\n"
     ]
    }
   ],
   "source": [
    "print(\"The R squared for Knn Regression model:\",r2_score(y_test, knn_pred))"
   ]
  },
  {
   "cell_type": "markdown",
   "metadata": {},
   "source": [
    "#### Tune Parameters & Grid Search with Cross Validation"
   ]
  },
  {
   "cell_type": "code",
   "execution_count": 72,
   "metadata": {},
   "outputs": [
    {
     "name": "stdout",
     "output_type": "stream",
     "text": [
      "RMSE value for k=  1 is: 1.5857437792194973\n",
      "RMSE value for k=  2 is: 1.0779513749082872\n",
      "RMSE value for k=  3 is: 0.9541575690978228\n",
      "RMSE value for k=  4 is: 0.8641439646648391\n",
      "RMSE value for k=  5 is: 0.8150664594579594\n",
      "RMSE value for k=  6 is: 0.7962222726145052\n",
      "RMSE value for k=  7 is: 0.7892776340892154\n",
      "RMSE value for k=  8 is: 0.7949629839390846\n",
      "RMSE value for k=  9 is: 0.7994017825077344\n",
      "RMSE value for k=  10 is: 0.8056053624449131\n",
      "RMSE value for k=  11 is: 0.8090079119841119\n",
      "RMSE value for k=  12 is: 0.8145895495642326\n",
      "RMSE value for k=  13 is: 0.8208482887933618\n",
      "RMSE value for k=  14 is: 0.8237222118608465\n",
      "RMSE value for k=  15 is: 0.8268693747884021\n",
      "RMSE value for k=  16 is: 0.8250434016361402\n",
      "RMSE value for k=  17 is: 0.8274503995909124\n",
      "RMSE value for k=  18 is: 0.8267564542039579\n",
      "RMSE value for k=  19 is: 0.8254451218117452\n",
      "RMSE value for k=  20 is: 0.823458155180537\n"
     ]
    }
   ],
   "source": [
    "# Source: https://www.analyticsvidhya.com/blog/2018/08/k-nearest-neighbor-introduction-regression-python/\n",
    "# store rmse values for different k\n",
    "rmse_val = []\n",
    "\n",
    "for K in range(20):\n",
    "    K = K+1\n",
    "    model = KNeighborsRegressor(n_neighbors = K)\n",
    "    model.fit(X_train1, y_train) \n",
    "    knn_pred2 = model.predict(X_test) \n",
    "    error = np.sqrt(mean_squared_error(y_test,knn_pred2)) \n",
    "    rmse_val.append(error) \n",
    "    print('RMSE value for k= ' , K , 'is:', error)"
   ]
  },
  {
   "cell_type": "code",
   "execution_count": 73,
   "metadata": {},
   "outputs": [
    {
     "data": {
      "text/plain": [
       "{'n_neighbors': 20}"
      ]
     },
     "execution_count": 73,
     "metadata": {},
     "output_type": "execute_result"
    }
   ],
   "source": [
    "k_range = range(1, 21)\n",
    "params = {'n_neighbors':k_range}\n",
    "\n",
    "knn = KNeighborsRegressor()\n",
    "\n",
    "model = GridSearchCV(knn, params, cv=10)\n",
    "model.fit(X_train1,y_train)\n",
    "model.best_params_"
   ]
  },
  {
   "cell_type": "code",
   "execution_count": 74,
   "metadata": {},
   "outputs": [
    {
     "data": {
      "text/plain": [
       "KNeighborsRegressor(algorithm='auto', leaf_size=30, metric='minkowski',\n",
       "                    metric_params=None, n_jobs=None, n_neighbors=20, p=2,\n",
       "                    weights='uniform')"
      ]
     },
     "execution_count": 74,
     "metadata": {},
     "output_type": "execute_result"
    }
   ],
   "source": [
    "knn_model2 = KNeighborsRegressor(n_neighbors=20)\n",
    "knn_model2.fit(X_train1, y_train)"
   ]
  },
  {
   "cell_type": "code",
   "execution_count": 75,
   "metadata": {},
   "outputs": [
    {
     "name": "stdout",
     "output_type": "stream",
     "text": [
      "The mean accuracy on the traning data is 0.4064028657591683\n",
      "The mean accuracy on the testing data is 0.2613758726672418\n"
     ]
    }
   ],
   "source": [
    "print(\"The mean accuracy on the traning data is\", knn_model2.score(X_train1, y_train))\n",
    "print(\"The mean accuracy on the testing data is\", knn_model2.score(X_test1, y_test))"
   ]
  },
  {
   "cell_type": "code",
   "execution_count": 76,
   "metadata": {},
   "outputs": [],
   "source": [
    "knn_pred3 = knn_model2.predict(X_test1)"
   ]
  },
  {
   "cell_type": "code",
   "execution_count": 77,
   "metadata": {},
   "outputs": [
    {
     "name": "stdout",
     "output_type": "stream",
     "text": [
      "The R squared for Tuned Knn Regression model: 0.2613758726672418\n"
     ]
    }
   ],
   "source": [
    "print(\"The R squared for Tuned Knn Regression model:\",r2_score(y_test,knn_pred3))"
   ]
  },
  {
   "cell_type": "markdown",
   "metadata": {},
   "source": [
    "### Regression Models Summary"
   ]
  },
  {
   "cell_type": "code",
   "execution_count": 78,
   "metadata": {},
   "outputs": [
    {
     "name": "stdout",
     "output_type": "stream",
     "text": [
      "The R squared for the linear model is: 0.3456224150116199\n",
      "The R squared for the Tuned Lasso model is: 0.3104625108858078\n",
      "The R squared for the Tuned Ridge model is: 0.3205990015474819\n",
      "The R squared score for Tuned Random Forest model: 0.47062905063787597\n",
      "The R squared score for Tuned Decision Tree model: 0.22979806503430933\n",
      "The R squared for Tuned Knn Regression model: 0.2613758726672418\n"
     ]
    }
   ],
   "source": [
    "# 1. Linear Regression\n",
    "print(\"The R squared for the linear model is:\", np.average(cross_val_score(linreg, X_train, y_train, cv = 10)))\n",
    "\n",
    "# 2. Lasso Regression\n",
    "print(\"The R squared for the Tuned Lasso model is:\", r2_score(y_test, las_pred2))\n",
    "\n",
    "# 3. Ridge Regression\n",
    "#R squared\n",
    "print(\"The R squared for the Tuned Ridge model is:\", r2_score(y_test, rid_pred2))\n",
    "\n",
    "# 4. Random Forest Regression\n",
    "print(\"The R squared score for Tuned Random Forest model:\",r2_score(y_test, rf_pred2))\n",
    "\n",
    "# 5. Decision Tree Regression\n",
    "print(\"The R squared score for Tuned Decision Tree model:\",r2_score(y_test, dt_pred2))\n",
    "\n",
    "# 6. Knn Regression\n",
    "print(\"The R squared for Tuned Knn Regression model:\",r2_score(y_test,knn_pred3))"
   ]
  },
  {
   "cell_type": "markdown",
   "metadata": {},
   "source": [
    "### It turns out that Random Forest Regression Model has the highest R score. "
   ]
  },
  {
   "cell_type": "markdown",
   "metadata": {},
   "source": [
    "### Feature Importance for Ranodm Forest Regression Model"
   ]
  },
  {
   "cell_type": "code",
   "execution_count": 79,
   "metadata": {},
   "outputs": [
    {
     "data": {
      "text/plain": [
       "['fixed acidity',\n",
       " 'volatile acidity',\n",
       " 'citric acid',\n",
       " 'residual sugar',\n",
       " 'chlorides',\n",
       " 'free sulfur dioxide',\n",
       " 'total sulfur dioxide',\n",
       " 'density',\n",
       " 'pH',\n",
       " 'sulphates',\n",
       " 'alcohol']"
      ]
     },
     "execution_count": 79,
     "metadata": {},
     "output_type": "execute_result"
    }
   ],
   "source": [
    "column = []\n",
    "\n",
    "for header in wine.columns:\n",
    "    if header != \"quality\":\n",
    "        column.append(header)\n",
    "column"
   ]
  },
  {
   "cell_type": "code",
   "execution_count": 80,
   "metadata": {},
   "outputs": [
    {
     "name": "stdout",
     "output_type": "stream",
     "text": [
      "Variable: alcohol              Importance: 0.192\n",
      "Variable: sulphates            Importance: 0.135\n",
      "Variable: volatile acidity     Importance: 0.133\n",
      "Variable: total sulfur dioxide Importance: 0.083\n",
      "Variable: density              Importance: 0.081\n",
      "Variable: chlorides            Importance: 0.074\n",
      "Variable: citric acid          Importance: 0.07\n",
      "Variable: fixed acidity        Importance: 0.065\n",
      "Variable: pH                   Importance: 0.061\n",
      "Variable: residual sugar       Importance: 0.055\n",
      "Variable: free sulfur dioxide  Importance: 0.05\n"
     ]
    }
   ],
   "source": [
    "importances = list(rf_model3.feature_importances_)\n",
    "\n",
    "feature_importances = [(feature, round(importance, 3)) for feature, importance in zip(column, importances)]\n",
    "\n",
    "feature_importances = sorted(feature_importances, key = lambda x: x[1], reverse = True)\n",
    "\n",
    "[print('Variable: {:20} Importance: {}'.format(*pair)) for pair in feature_importances];"
   ]
  },
  {
   "cell_type": "code",
   "execution_count": 82,
   "metadata": {},
   "outputs": [
    {
     "data": {
      "image/png": "[encoded data removed]",
      "text/plain": [
       "<Figure size 432x288 with 1 Axes>"
      ]
     },
     "metadata": {
      "needs_background": "light"
     },
     "output_type": "display_data"
    }
   ],
   "source": [
    "importance = rf_model3.feature_importances_\n",
    "indices = np.argsort(importance)\n",
    "\n",
    "plt.barh(range(len(indices)), importance[indices], color='#b11226', align='center')\n",
    "plt.yticks(range(len(indices)), [column[i] for i in indices])\n",
    "plt.title(\"Random Forest Regression\" + 'Feature Importance')\n",
    "plt.xlabel('Feature Importance')\n",
    "plt.ylabel('Feature Names')\n",
    "plt.show()"
   ]
  },
  {
   "cell_type": "code",
   "execution_count": null,
   "metadata": {},
   "outputs": [],
   "source": []
  }
 ],
 "metadata": {
  "kernelspec": {
   "display_name": "Python 3",
   "language": "python",
   "name": "python3"
  },
  "language_info": {
   "codemirror_mode": {
    "name": "ipython",
    "version": 3
   },
   "file_extension": ".py",
   "mimetype": "text/x-python",
   "name": "python",
   "nbconvert_exporter": "python",
   "pygments_lexer": "ipython3",
   "version": "3.8.5"
  }
 },
 "nbformat": 4,
 "nbformat_minor": 2
}
